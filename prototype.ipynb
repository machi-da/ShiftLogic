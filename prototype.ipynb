{
 "cells": [
  {
   "cell_type": "code",
   "execution_count": 1,
   "metadata": {},
   "outputs": [],
   "source": [
    "import numpy as np\n",
    "import pandas as pd\n",
    "import pulp\n",
    "from ortoolpy import addvars, addbinvars\n",
    "import random"
   ]
  },
  {
   "cell_type": "code",
   "execution_count": 2,
   "metadata": {},
   "outputs": [],
   "source": [
    "# ペナルティの重み定数\n",
    "p_need_diff = 1000\n",
    "p_amount = 10\n",
    "p_veteran = 3"
   ]
  },
  {
   "cell_type": "code",
   "execution_count": 3,
   "metadata": {},
   "outputs": [],
   "source": [
    "# ここでExcelのデータを取得\n",
    "shift = pd.read_csv('prototype/Shift.tsv', sep='\\t',  index_col=0)\n",
    "manage = pd.read_csv('prototype/Manage.tsv', sep='\\t', index_col=0)\n",
    "member = pd.read_csv('prototype/Member.tsv', sep='\\t', index_col=0).T\n",
    "# detail = pd.read_csv('prototype/Detail.tsv', sep='\\t', index_col=0)"
   ]
  },
  {
   "cell_type": "code",
   "execution_count": 4,
   "metadata": {},
   "outputs": [
    {
     "data": {
      "text/html": [
       "<div>\n",
       "<style scoped>\n",
       "    .dataframe tbody tr th:only-of-type {\n",
       "        vertical-align: middle;\n",
       "    }\n",
       "\n",
       "    .dataframe tbody tr th {\n",
       "        vertical-align: top;\n",
       "    }\n",
       "\n",
       "    .dataframe thead th {\n",
       "        text-align: right;\n",
       "    }\n",
       "</style>\n",
       "<table border=\"1\" class=\"dataframe\">\n",
       "  <thead>\n",
       "    <tr style=\"text-align: right;\">\n",
       "      <th></th>\n",
       "      <th>Aさん</th>\n",
       "      <th>Bさん</th>\n",
       "      <th>Cさん</th>\n",
       "      <th>Dさん</th>\n",
       "    </tr>\n",
       "  </thead>\n",
       "  <tbody>\n",
       "    <tr>\n",
       "      <th>1</th>\n",
       "      <td>1</td>\n",
       "      <td>1</td>\n",
       "      <td>1</td>\n",
       "      <td>0</td>\n",
       "    </tr>\n",
       "    <tr>\n",
       "      <th>2</th>\n",
       "      <td>1</td>\n",
       "      <td>1</td>\n",
       "      <td>1</td>\n",
       "      <td>0</td>\n",
       "    </tr>\n",
       "    <tr>\n",
       "      <th>3</th>\n",
       "      <td>1</td>\n",
       "      <td>1</td>\n",
       "      <td>1</td>\n",
       "      <td>1</td>\n",
       "    </tr>\n",
       "  </tbody>\n",
       "</table>\n",
       "</div>"
      ],
      "text/plain": [
       "   Aさん  Bさん  Cさん  Dさん\n",
       "1    1    1    1    0\n",
       "2    1    1    1    0\n",
       "3    1    1    1    1"
      ]
     },
     "execution_count": 4,
     "metadata": {},
     "output_type": "execute_result"
    }
   ],
   "source": [
    "# 入れる場所が1、入れない場所が0を表す\n",
    "shift.head()"
   ]
  },
  {
   "cell_type": "code",
   "execution_count": 5,
   "metadata": {},
   "outputs": [
    {
     "data": {
      "text/html": [
       "<div>\n",
       "<style scoped>\n",
       "    .dataframe tbody tr th:only-of-type {\n",
       "        vertical-align: middle;\n",
       "    }\n",
       "\n",
       "    .dataframe tbody tr th {\n",
       "        vertical-align: top;\n",
       "    }\n",
       "\n",
       "    .dataframe thead th {\n",
       "        text-align: right;\n",
       "    }\n",
       "</style>\n",
       "<table border=\"1\" class=\"dataframe\">\n",
       "  <thead>\n",
       "    <tr style=\"text-align: right;\">\n",
       "      <th></th>\n",
       "      <th>need</th>\n",
       "    </tr>\n",
       "  </thead>\n",
       "  <tbody>\n",
       "    <tr>\n",
       "      <th>1</th>\n",
       "      <td>2</td>\n",
       "    </tr>\n",
       "    <tr>\n",
       "      <th>2</th>\n",
       "      <td>2</td>\n",
       "    </tr>\n",
       "    <tr>\n",
       "      <th>3</th>\n",
       "      <td>3</td>\n",
       "    </tr>\n",
       "  </tbody>\n",
       "</table>\n",
       "</div>"
      ],
      "text/plain": [
       "   need\n",
       "1     2\n",
       "2     2\n",
       "3     3"
      ]
     },
     "execution_count": 5,
     "metadata": {},
     "output_type": "execute_result"
    }
   ],
   "source": [
    "manage.head()"
   ]
  },
  {
   "cell_type": "code",
   "execution_count": 6,
   "metadata": {},
   "outputs": [
    {
     "data": {
      "text/html": [
       "<div>\n",
       "<style scoped>\n",
       "    .dataframe tbody tr th:only-of-type {\n",
       "        vertical-align: middle;\n",
       "    }\n",
       "\n",
       "    .dataframe tbody tr th {\n",
       "        vertical-align: top;\n",
       "    }\n",
       "\n",
       "    .dataframe thead th {\n",
       "        text-align: right;\n",
       "    }\n",
       "</style>\n",
       "<table border=\"1\" class=\"dataframe\">\n",
       "  <thead>\n",
       "    <tr style=\"text-align: right;\">\n",
       "      <th></th>\n",
       "      <th>amount</th>\n",
       "      <th>veteran</th>\n",
       "    </tr>\n",
       "  </thead>\n",
       "  <tbody>\n",
       "    <tr>\n",
       "      <th>Aさん</th>\n",
       "      <td>2</td>\n",
       "      <td>1</td>\n",
       "    </tr>\n",
       "    <tr>\n",
       "      <th>Bさん</th>\n",
       "      <td>2</td>\n",
       "      <td>1</td>\n",
       "    </tr>\n",
       "    <tr>\n",
       "      <th>Cさん</th>\n",
       "      <td>2</td>\n",
       "      <td>1</td>\n",
       "    </tr>\n",
       "    <tr>\n",
       "      <th>Dさん</th>\n",
       "      <td>1</td>\n",
       "      <td>1</td>\n",
       "    </tr>\n",
       "  </tbody>\n",
       "</table>\n",
       "</div>"
      ],
      "text/plain": [
       "     amount  veteran\n",
       "Aさん       2        1\n",
       "Bさん       2        1\n",
       "Cさん       2        1\n",
       "Dさん       1        1"
      ]
     },
     "execution_count": 6,
     "metadata": {},
     "output_type": "execute_result"
    }
   ],
   "source": [
    "member.head()"
   ]
  },
  {
   "cell_type": "code",
   "execution_count": 7,
   "metadata": {},
   "outputs": [
    {
     "name": "stdout",
     "output_type": "stream",
     "text": [
      "シフト日時\n",
      "Int64Index([1, 2, 3], dtype='int64')\n",
      "従業員\n",
      "Index(['Aさん', 'Bさん', 'Cさん', 'Dさん'], dtype='object')\n"
     ]
    }
   ],
   "source": [
    "# Shiftシートのカラムとインデックス\n",
    "date = shift.index\n",
    "employee = shift.columns\n",
    "print('シフト日時')\n",
    "print(date)\n",
    "print('従業員')\n",
    "print(employee)"
   ]
  },
  {
   "cell_type": "code",
   "execution_count": 8,
   "metadata": {},
   "outputs": [
    {
     "data": {
      "text/html": [
       "<div>\n",
       "<style scoped>\n",
       "    .dataframe tbody tr th:only-of-type {\n",
       "        vertical-align: middle;\n",
       "    }\n",
       "\n",
       "    .dataframe tbody tr th {\n",
       "        vertical-align: top;\n",
       "    }\n",
       "\n",
       "    .dataframe thead th {\n",
       "        text-align: right;\n",
       "    }\n",
       "</style>\n",
       "<table border=\"1\" class=\"dataframe\">\n",
       "  <thead>\n",
       "    <tr style=\"text-align: right;\">\n",
       "      <th></th>\n",
       "      <th>Aさん</th>\n",
       "      <th>Bさん</th>\n",
       "      <th>Cさん</th>\n",
       "      <th>Dさん</th>\n",
       "      <th>need_employee</th>\n",
       "    </tr>\n",
       "  </thead>\n",
       "  <tbody>\n",
       "    <tr>\n",
       "      <th>1</th>\n",
       "      <td>1</td>\n",
       "      <td>1</td>\n",
       "      <td>1</td>\n",
       "      <td>0</td>\n",
       "      <td>2</td>\n",
       "    </tr>\n",
       "    <tr>\n",
       "      <th>2</th>\n",
       "      <td>1</td>\n",
       "      <td>1</td>\n",
       "      <td>1</td>\n",
       "      <td>0</td>\n",
       "      <td>2</td>\n",
       "    </tr>\n",
       "    <tr>\n",
       "      <th>3</th>\n",
       "      <td>1</td>\n",
       "      <td>1</td>\n",
       "      <td>1</td>\n",
       "      <td>1</td>\n",
       "      <td>3</td>\n",
       "    </tr>\n",
       "  </tbody>\n",
       "</table>\n",
       "</div>"
      ],
      "text/plain": [
       "   Aさん  Bさん  Cさん  Dさん  need_employee\n",
       "1    1    1    1    0              2\n",
       "2    1    1    1    0              2\n",
       "3    1    1    1    1              3"
      ]
     },
     "execution_count": 8,
     "metadata": {},
     "output_type": "execute_result"
    }
   ],
   "source": [
    "shift['need_employee'] = manage.need  # １シフトあたりの必要人数の列を追加\n",
    "shift.head()"
   ]
  },
  {
   "cell_type": "code",
   "execution_count": 9,
   "metadata": {},
   "outputs": [
    {
     "name": "stdout",
     "output_type": "stream",
     "text": [
      "1日\tシフト入れる人数: 3, 必要人数: 2\n",
      "2日\tシフト入れる人数: 3, 必要人数: 2\n",
      "3日\tシフト入れる人数: 4, 必要人数: 3\n"
     ]
    }
   ],
   "source": [
    "# 足りない人がいれば終了\n",
    "shortage = []\n",
    "for day, row in shift.iterrows():\n",
    "    print('{}日\\tシフト入れる人数: {}, 必要人数: {}'.format(day, row[employee].sum(), row['need_employee']))\n",
    "    if row[employee].sum() < row['need_employee']:\n",
    "        shortage.append(day)\n",
    "\n",
    "if shortage:\n",
    "    print('下記日付について人員が足りません')\n",
    "    print('日,'.join(shortage))"
   ]
  },
  {
   "cell_type": "code",
   "execution_count": 10,
   "metadata": {},
   "outputs": [
    {
     "name": "stdout",
     "output_type": "stream",
     "text": [
      "シフト日数: 3, 従業員数: 4\n"
     ]
    }
   ],
   "source": [
    "# 従業員数と月の日数\n",
    "num_date, num_employee = shift[employee].shape\n",
    "print('シフト日数: {}, 従業員数: {}'.format(num_date, num_employee))"
   ]
  },
  {
   "cell_type": "code",
   "execution_count": 11,
   "metadata": {},
   "outputs": [
    {
     "data": {
      "text/html": [
       "<div>\n",
       "<style scoped>\n",
       "    .dataframe tbody tr th:only-of-type {\n",
       "        vertical-align: middle;\n",
       "    }\n",
       "\n",
       "    .dataframe tbody tr th {\n",
       "        vertical-align: top;\n",
       "    }\n",
       "\n",
       "    .dataframe thead th {\n",
       "        text-align: right;\n",
       "    }\n",
       "</style>\n",
       "<table border=\"1\" class=\"dataframe\">\n",
       "  <thead>\n",
       "    <tr style=\"text-align: right;\">\n",
       "      <th></th>\n",
       "      <th>Aさん</th>\n",
       "      <th>Bさん</th>\n",
       "      <th>Cさん</th>\n",
       "      <th>Dさん</th>\n",
       "    </tr>\n",
       "  </thead>\n",
       "  <tbody>\n",
       "    <tr>\n",
       "      <th>1</th>\n",
       "      <td>v000001</td>\n",
       "      <td>v000002</td>\n",
       "      <td>v000003</td>\n",
       "      <td>v000004</td>\n",
       "    </tr>\n",
       "    <tr>\n",
       "      <th>2</th>\n",
       "      <td>v000005</td>\n",
       "      <td>v000006</td>\n",
       "      <td>v000007</td>\n",
       "      <td>v000008</td>\n",
       "    </tr>\n",
       "    <tr>\n",
       "      <th>3</th>\n",
       "      <td>v000009</td>\n",
       "      <td>v000010</td>\n",
       "      <td>v000011</td>\n",
       "      <td>v000012</td>\n",
       "    </tr>\n",
       "  </tbody>\n",
       "</table>\n",
       "</div>"
      ],
      "text/plain": [
       "       Aさん      Bさん      Cさん      Dさん\n",
       "1  v000001  v000002  v000003  v000004\n",
       "2  v000005  v000006  v000007  v000008\n",
       "3  v000009  v000010  v000011  v000012"
      ]
     },
     "execution_count": 11,
     "metadata": {},
     "output_type": "execute_result"
    }
   ],
   "source": [
    "# 最適化のための変数作成\n",
    "var = pd.DataFrame(np.array(addbinvars(num_date, num_employee)), columns=employee, index=date)\n",
    "var.head()"
   ]
  },
  {
   "cell_type": "code",
   "execution_count": 12,
   "metadata": {},
   "outputs": [
    {
     "data": {
      "text/html": [
       "<div>\n",
       "<style scoped>\n",
       "    .dataframe tbody tr th:only-of-type {\n",
       "        vertical-align: middle;\n",
       "    }\n",
       "\n",
       "    .dataframe tbody tr th {\n",
       "        vertical-align: top;\n",
       "    }\n",
       "\n",
       "    .dataframe thead th {\n",
       "        text-align: right;\n",
       "    }\n",
       "</style>\n",
       "<table border=\"1\" class=\"dataframe\">\n",
       "  <thead>\n",
       "    <tr style=\"text-align: right;\">\n",
       "      <th></th>\n",
       "      <th>Aさん</th>\n",
       "      <th>Bさん</th>\n",
       "      <th>Cさん</th>\n",
       "      <th>Dさん</th>\n",
       "    </tr>\n",
       "  </thead>\n",
       "  <tbody>\n",
       "    <tr>\n",
       "      <th>1</th>\n",
       "      <td>0</td>\n",
       "      <td>0</td>\n",
       "      <td>0</td>\n",
       "      <td>1</td>\n",
       "    </tr>\n",
       "    <tr>\n",
       "      <th>2</th>\n",
       "      <td>0</td>\n",
       "      <td>0</td>\n",
       "      <td>0</td>\n",
       "      <td>1</td>\n",
       "    </tr>\n",
       "    <tr>\n",
       "      <th>3</th>\n",
       "      <td>0</td>\n",
       "      <td>0</td>\n",
       "      <td>0</td>\n",
       "      <td>0</td>\n",
       "    </tr>\n",
       "  </tbody>\n",
       "</table>\n",
       "</div>"
      ],
      "text/plain": [
       "   Aさん  Bさん  Cさん  Dさん\n",
       "1    0    0    0    1\n",
       "2    0    0    0    1\n",
       "3    0    0    0    0"
      ]
     },
     "execution_count": 12,
     "metadata": {},
     "output_type": "execute_result"
    }
   ],
   "source": [
    "# ０と１を逆転させている\n",
    "shift_rev = shift[employee].apply(lambda x: 1 - x, axis=1)\n",
    "# 入れる場所が0、入れない場所が1を表す\n",
    "shift_rev.head()"
   ]
  },
  {
   "cell_type": "code",
   "execution_count": 13,
   "metadata": {},
   "outputs": [],
   "source": [
    "k = pulp.LpProblem('shift', sense=pulp.LpMinimize)"
   ]
  },
  {
   "cell_type": "code",
   "execution_count": 14,
   "metadata": {},
   "outputs": [],
   "source": [
    "# 制約：希望していない場所には入らないようにする\n",
    "for (_, s), (_, v) in zip(shift_rev.iterrows(), var.iterrows()):\n",
    "    # シフト表とシフト変数の内積(要素積)を計算する\n",
    "    # 入れない場所に1が立っているため、変数が1をとると入れない場所に入れることになってしまうため0となるように制約を指定している\n",
    "    k += pulp.lpDot(s, v) <= 0"
   ]
  },
  {
   "cell_type": "code",
   "execution_count": 15,
   "metadata": {},
   "outputs": [
    {
     "data": {
      "text/html": [
       "<div>\n",
       "<style scoped>\n",
       "    .dataframe tbody tr th:only-of-type {\n",
       "        vertical-align: middle;\n",
       "    }\n",
       "\n",
       "    .dataframe tbody tr th {\n",
       "        vertical-align: top;\n",
       "    }\n",
       "\n",
       "    .dataframe thead th {\n",
       "        text-align: right;\n",
       "    }\n",
       "</style>\n",
       "<table border=\"1\" class=\"dataframe\">\n",
       "  <thead>\n",
       "    <tr style=\"text-align: right;\">\n",
       "      <th></th>\n",
       "      <th>Aさん</th>\n",
       "      <th>Bさん</th>\n",
       "      <th>Cさん</th>\n",
       "      <th>Dさん</th>\n",
       "      <th>need_employee</th>\n",
       "      <th>num_veteran</th>\n",
       "    </tr>\n",
       "  </thead>\n",
       "  <tbody>\n",
       "    <tr>\n",
       "      <th>1</th>\n",
       "      <td>v000001</td>\n",
       "      <td>v000002</td>\n",
       "      <td>v000003</td>\n",
       "      <td>v000004</td>\n",
       "      <td>v000013</td>\n",
       "      <td>v000016</td>\n",
       "    </tr>\n",
       "    <tr>\n",
       "      <th>2</th>\n",
       "      <td>v000005</td>\n",
       "      <td>v000006</td>\n",
       "      <td>v000007</td>\n",
       "      <td>v000008</td>\n",
       "      <td>v000014</td>\n",
       "      <td>v000017</td>\n",
       "    </tr>\n",
       "    <tr>\n",
       "      <th>3</th>\n",
       "      <td>v000009</td>\n",
       "      <td>v000010</td>\n",
       "      <td>v000011</td>\n",
       "      <td>v000012</td>\n",
       "      <td>v000015</td>\n",
       "      <td>v000018</td>\n",
       "    </tr>\n",
       "  </tbody>\n",
       "</table>\n",
       "</div>"
      ],
      "text/plain": [
       "       Aさん      Bさん      Cさん      Dさん need_employee num_veteran\n",
       "1  v000001  v000002  v000003  v000004       v000013     v000016\n",
       "2  v000005  v000006  v000007  v000008       v000014     v000017\n",
       "3  v000009  v000010  v000011  v000012       v000015     v000018"
      ]
     },
     "execution_count": 15,
     "metadata": {},
     "output_type": "execute_result"
    }
   ],
   "source": [
    "# 変数の追加\n",
    "var['need_employee'] = addvars(num_date)  # 必要人数を満たすためのペナルティ変数\n",
    "var['num_veteran'] = addvars(num_date)  # 新人だけになった時のペナルティ変数\n",
    "var.head()"
   ]
  },
  {
   "cell_type": "code",
   "execution_count": 16,
   "metadata": {},
   "outputs": [],
   "source": [
    "# 制約: シフトに必要な人数に対するペナルティーを求める。\n",
    "for (_, s), (_, v) in zip(shift.iterrows(), var.iterrows()):\n",
    "    k += v['need_employee'] >= (pulp.lpSum(v[employee]) - s['need_employee'])\n",
    "    k += v['need_employee'] >= -(pulp.lpSum(v[employee]) - s['need_employee'])"
   ]
  },
  {
   "cell_type": "code",
   "execution_count": 17,
   "metadata": {},
   "outputs": [
    {
     "data": {
      "text/html": [
       "<div>\n",
       "<style scoped>\n",
       "    .dataframe tbody tr th:only-of-type {\n",
       "        vertical-align: middle;\n",
       "    }\n",
       "\n",
       "    .dataframe tbody tr th {\n",
       "        vertical-align: top;\n",
       "    }\n",
       "\n",
       "    .dataframe thead th {\n",
       "        text-align: right;\n",
       "    }\n",
       "</style>\n",
       "<table border=\"1\" class=\"dataframe\">\n",
       "  <thead>\n",
       "    <tr style=\"text-align: right;\">\n",
       "      <th></th>\n",
       "      <th>Aさん</th>\n",
       "      <th>Bさん</th>\n",
       "      <th>Cさん</th>\n",
       "      <th>Dさん</th>\n",
       "    </tr>\n",
       "  </thead>\n",
       "  <tbody>\n",
       "    <tr>\n",
       "      <th>0</th>\n",
       "      <td>v000019</td>\n",
       "      <td>v000020</td>\n",
       "      <td>v000021</td>\n",
       "      <td>v000022</td>\n",
       "    </tr>\n",
       "  </tbody>\n",
       "</table>\n",
       "</div>"
      ],
      "text/plain": [
       "       Aさん      Bさん      Cさん      Dさん\n",
       "0  v000019  v000020  v000021  v000022"
      ]
     },
     "execution_count": 17,
     "metadata": {},
     "output_type": "execute_result"
    }
   ],
   "source": [
    "# 入りすぎ、入らなすぎにペナルティを与える変数\n",
    "shift_amount = pd.DataFrame(addvars(num_employee), index=employee).T\n",
    "shift_amount"
   ]
  },
  {
   "cell_type": "code",
   "execution_count": 18,
   "metadata": {},
   "outputs": [
    {
     "data": {
      "text/plain": [
       "Aさん    v000019\n",
       "Bさん    v000020\n",
       "Cさん    v000021\n",
       "Dさん    v000022\n",
       "Name: 0, dtype: object"
      ]
     },
     "execution_count": 18,
     "metadata": {},
     "output_type": "execute_result"
    }
   ],
   "source": [
    "shift_amount.iloc[0]"
   ]
  },
  {
   "cell_type": "code",
   "execution_count": 19,
   "metadata": {},
   "outputs": [],
   "source": [
    "# 制約\n",
    "for name, r in var[employee].iteritems():\n",
    "    k += pulp.lpSum(r) + shift_amount.at[0, name] >= member.at[name, 'amount']\n",
    "    k += pulp.lpSum(r) - shift_amount.at[0, name] <= member.at[name, 'amount']"
   ]
  },
  {
   "cell_type": "code",
   "execution_count": 20,
   "metadata": {},
   "outputs": [],
   "source": [
    "# 目的関数決定\n",
    "k += p_need_diff * pulp.lpSum(var['need_employee']) \\\n",
    "     + p_amount * pulp.lpSum(shift_amount.iloc[0])"
   ]
  },
  {
   "cell_type": "code",
   "execution_count": 21,
   "metadata": {},
   "outputs": [
    {
     "name": "stdout",
     "output_type": "stream",
     "text": [
      "shift:\n",
      "MINIMIZE\n",
      "1000*v000013 + 1000*v000014 + 1000*v000015 + 10*v000019 + 10*v000020 + 10*v000021 + 10*v000022 + 0\n",
      "SUBJECT TO\n",
      "_C1: v000004 <= 0\n",
      "\n",
      "_C2: v000008 <= 0\n",
      "\n",
      "_C3:0 <= 0\n",
      "\n",
      "_C4: - v000001 - v000002 - v000003 - v000004 + v000013 >= -2\n",
      "\n",
      "_C5: v000001 + v000002 + v000003 + v000004 + v000013 >= 2\n",
      "\n",
      "_C6: - v000005 - v000006 - v000007 - v000008 + v000014 >= -2\n",
      "\n",
      "_C7: v000005 + v000006 + v000007 + v000008 + v000014 >= 2\n",
      "\n",
      "_C8: - v000009 - v000010 - v000011 - v000012 + v000015 >= -3\n",
      "\n",
      "_C9: v000009 + v000010 + v000011 + v000012 + v000015 >= 3\n",
      "\n",
      "_C10: v000001 + v000005 + v000009 + v000019 >= 2\n",
      "\n",
      "_C11: v000001 + v000005 + v000009 - v000019 <= 2\n",
      "\n",
      "_C12: v000002 + v000006 + v000010 + v000020 >= 2\n",
      "\n",
      "_C13: v000002 + v000006 + v000010 - v000020 <= 2\n",
      "\n",
      "_C14: v000003 + v000007 + v000011 + v000021 >= 2\n",
      "\n",
      "_C15: v000003 + v000007 + v000011 - v000021 <= 2\n",
      "\n",
      "_C16: v000004 + v000008 + v000012 + v000022 >= 1\n",
      "\n",
      "_C17: v000004 + v000008 + v000012 - v000022 <= 1\n",
      "\n",
      "VARIABLES\n",
      "0 <= v000001 <= 1 Integer\n",
      "0 <= v000002 <= 1 Integer\n",
      "0 <= v000003 <= 1 Integer\n",
      "0 <= v000004 <= 1 Integer\n",
      "0 <= v000005 <= 1 Integer\n",
      "0 <= v000006 <= 1 Integer\n",
      "0 <= v000007 <= 1 Integer\n",
      "0 <= v000008 <= 1 Integer\n",
      "0 <= v000009 <= 1 Integer\n",
      "0 <= v000010 <= 1 Integer\n",
      "0 <= v000011 <= 1 Integer\n",
      "0 <= v000012 <= 1 Integer\n",
      "v000013 Continuous\n",
      "v000014 Continuous\n",
      "v000015 Continuous\n",
      "v000019 Continuous\n",
      "v000020 Continuous\n",
      "v000021 Continuous\n",
      "v000022 Continuous\n",
      "\n"
     ]
    }
   ],
   "source": [
    "print(k)"
   ]
  },
  {
   "cell_type": "code",
   "execution_count": 22,
   "metadata": {},
   "outputs": [
    {
     "data": {
      "text/plain": [
       "1"
      ]
     },
     "execution_count": 22,
     "metadata": {},
     "output_type": "execute_result"
    }
   ],
   "source": [
    "k.solve()"
   ]
  },
  {
   "cell_type": "code",
   "execution_count": 23,
   "metadata": {},
   "outputs": [
    {
     "name": "stdout",
     "output_type": "stream",
     "text": [
      "目的関数 0.0\n",
      "[[0 1 1 0]\n",
      " [1 0 1 0]\n",
      " [1 1 0 1]]\n"
     ]
    }
   ],
   "source": [
    "result = np.vectorize(pulp.value)(var[employee]).astype(int)\n",
    "print('目的関数', pulp.value(k.objective))\n",
    "print(result)"
   ]
  },
  {
   "cell_type": "code",
   "execution_count": 40,
   "metadata": {},
   "outputs": [
    {
     "data": {
      "text/html": [
       "<div>\n",
       "<style scoped>\n",
       "    .dataframe tbody tr th:only-of-type {\n",
       "        vertical-align: middle;\n",
       "    }\n",
       "\n",
       "    .dataframe tbody tr th {\n",
       "        vertical-align: top;\n",
       "    }\n",
       "\n",
       "    .dataframe thead th {\n",
       "        text-align: right;\n",
       "    }\n",
       "</style>\n",
       "<table border=\"1\" class=\"dataframe\">\n",
       "  <thead>\n",
       "    <tr style=\"text-align: right;\">\n",
       "      <th></th>\n",
       "      <th>Aさん</th>\n",
       "      <th>Bさん</th>\n",
       "      <th>Cさん</th>\n",
       "      <th>Dさん</th>\n",
       "      <th>Total</th>\n",
       "      <th>need</th>\n",
       "    </tr>\n",
       "  </thead>\n",
       "  <tbody>\n",
       "    <tr>\n",
       "      <th>1</th>\n",
       "      <td>0.0</td>\n",
       "      <td>1.0</td>\n",
       "      <td>1.0</td>\n",
       "      <td>0.0</td>\n",
       "      <td>2.0</td>\n",
       "      <td>2.0</td>\n",
       "    </tr>\n",
       "    <tr>\n",
       "      <th>2</th>\n",
       "      <td>1.0</td>\n",
       "      <td>0.0</td>\n",
       "      <td>1.0</td>\n",
       "      <td>0.0</td>\n",
       "      <td>2.0</td>\n",
       "      <td>2.0</td>\n",
       "    </tr>\n",
       "    <tr>\n",
       "      <th>3</th>\n",
       "      <td>1.0</td>\n",
       "      <td>1.0</td>\n",
       "      <td>0.0</td>\n",
       "      <td>1.0</td>\n",
       "      <td>3.0</td>\n",
       "      <td>3.0</td>\n",
       "    </tr>\n",
       "    <tr>\n",
       "      <th>Total</th>\n",
       "      <td>2.0</td>\n",
       "      <td>2.0</td>\n",
       "      <td>2.0</td>\n",
       "      <td>1.0</td>\n",
       "      <td>7.0</td>\n",
       "      <td>NaN</td>\n",
       "    </tr>\n",
       "    <tr>\n",
       "      <th>amount</th>\n",
       "      <td>2.0</td>\n",
       "      <td>2.0</td>\n",
       "      <td>2.0</td>\n",
       "      <td>1.0</td>\n",
       "      <td>NaN</td>\n",
       "      <td>NaN</td>\n",
       "    </tr>\n",
       "  </tbody>\n",
       "</table>\n",
       "</div>"
      ],
      "text/plain": [
       "        Aさん  Bさん  Cさん  Dさん  Total  need\n",
       "1       0.0  1.0  1.0  0.0    2.0   2.0\n",
       "2       1.0  0.0  1.0  0.0    2.0   2.0\n",
       "3       1.0  1.0  0.0  1.0    3.0   3.0\n",
       "Total   2.0  2.0  2.0  1.0    7.0   NaN\n",
       "amount  2.0  2.0  2.0  1.0    NaN   NaN"
      ]
     },
     "execution_count": 40,
     "metadata": {},
     "output_type": "execute_result"
    }
   ],
   "source": [
    "df_result = pd.DataFrame(result, columns=employee, index=date)\n",
    "df_result.loc['Total'] = df_result.sum(numeric_only=True)\n",
    "df_result['Total'] = df_result.sum(numeric_only=True, axis=1)\n",
    "df_result = pd.merge(df_result, manage, left_index=True, right_index=True, how='outer')\n",
    "df_result = df_result.append(member['amount'])\n",
    "df_result"
   ]
  },
  {
   "cell_type": "code",
   "execution_count": null,
   "metadata": {},
   "outputs": [],
   "source": []
  }
 ],
 "metadata": {
  "kernelspec": {
   "display_name": "Python 3",
   "language": "python",
   "name": "python3"
  },
  "language_info": {
   "codemirror_mode": {
    "name": "ipython",
    "version": 3
   },
   "file_extension": ".py",
   "mimetype": "text/x-python",
   "name": "python",
   "nbconvert_exporter": "python",
   "pygments_lexer": "ipython3",
   "version": "3.7.5"
  }
 },
 "nbformat": 4,
 "nbformat_minor": 4
}
